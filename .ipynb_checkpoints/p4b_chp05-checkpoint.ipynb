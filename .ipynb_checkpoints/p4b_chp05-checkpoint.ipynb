{
 "cells": [
  {
   "cell_type": "code",
   "execution_count": 1,
   "metadata": {},
   "outputs": [
    {
     "ename": "NameError",
     "evalue": "name 'a_count' is not defined",
     "output_type": "error",
     "traceback": [
      "\u001b[0;31m---------------------------------------------------------------------------\u001b[0m",
      "\u001b[0;31mNameError\u001b[0m                                 Traceback (most recent call last)",
      "\u001b[0;32m<ipython-input-1-6af33b61dbf4>\u001b[0m in \u001b[0;36m<module>\u001b[0;34m\u001b[0m\n\u001b[1;32m      5\u001b[0m  \u001b[0mat_content\u001b[0m \u001b[0;34m=\u001b[0m \u001b[0;34m(\u001b[0m\u001b[0ma_count\u001b[0m \u001b[0;34m+\u001b[0m \u001b[0mt_count\u001b[0m\u001b[0;34m)\u001b[0m \u001b[0;34m/\u001b[0m \u001b[0mlength\u001b[0m\u001b[0;34m\u001b[0m\u001b[0;34m\u001b[0m\u001b[0m\n\u001b[1;32m      6\u001b[0m  \u001b[0;32mreturn\u001b[0m \u001b[0mat_content\u001b[0m\u001b[0;34m\u001b[0m\u001b[0;34m\u001b[0m\u001b[0m\n\u001b[0;32m----> 7\u001b[0;31m \u001b[0mprint\u001b[0m\u001b[0;34m(\u001b[0m\u001b[0ma_count\u001b[0m\u001b[0;34m)\u001b[0m\u001b[0;34m\u001b[0m\u001b[0;34m\u001b[0m\u001b[0m\n\u001b[0m",
      "\u001b[0;31mNameError\u001b[0m: name 'a_count' is not defined"
     ]
    }
   ],
   "source": [
    "def get_at_content(dna):\n",
    " length = len(dna)\n",
    " a_count = dna.count('A')\n",
    " t_count = dna.count('T')\n",
    " at_content = (a_count + t_count) / length\n",
    " return at_content\n",
    "print(a_count)"
   ]
  },
  {
   "cell_type": "code",
   "execution_count": 2,
   "metadata": {},
   "outputs": [
    {
     "name": "stdout",
     "output_type": "stream",
     "text": [
      "0.45\n",
      "0.5294117647058824\n",
      "0.0\n"
     ]
    }
   ],
   "source": [
    "def get_at_content(dna):\n",
    " length = len(dna)\n",
    " a_count = dna.count('A')\n",
    " t_count = dna.count('T')\n",
    " at_content = (a_count + t_count) / length\n",
    " return at_content\n",
    "my_at_content = get_at_content(\"ATGCGCGATCGATCGAATCG\")\n",
    "print(str(my_at_content))\n",
    "print(get_at_content(\"ATGCATGCAACTGTAGC\"))\n",
    "print(get_at_content(\"aactgtagctagctagcagcgta\"))"
   ]
  },
  {
   "cell_type": "code",
   "execution_count": 3,
   "metadata": {},
   "outputs": [
    {
     "name": "stdout",
     "output_type": "stream",
     "text": [
      "0.45\n",
      "0.53\n",
      "0.52\n"
     ]
    }
   ],
   "source": [
    "def get_at_content(dna):\n",
    " length = len(dna)\n",
    " a_count = dna.upper().count('A')\n",
    " t_count = dna.upper().count('T')\n",
    " at_content = (a_count + t_count) / length\n",
    " return round(at_content, 2)\n",
    "my_at_content = get_at_content(\"ATGCGCGATCGATCGAATCG\")\n",
    "print(str(my_at_content))\n",
    "print(get_at_content(\"ATGCATGCAACTGTAGC\"))\n",
    "print(get_at_content(\"aactgtagctagctagcagcgta\"))"
   ]
  },
  {
   "cell_type": "code",
   "execution_count": 4,
   "metadata": {},
   "outputs": [
    {
     "name": "stdout",
     "output_type": "stream",
     "text": [
      "0.5\n",
      "0.53\n",
      "0.529\n"
     ]
    }
   ],
   "source": [
    "def get_at_content(dna, sig_figs):\n",
    " length = len(dna)\n",
    " a_count = dna.upper().count('A')\n",
    " t_count = dna.upper().count('T')\n",
    " at_content = (a_count + t_count) / length\n",
    " return round(at_content, sig_figs)\n",
    "test_dna = \"ATGCATGCAACTGTAGC\"\n",
    "print(get_at_content(test_dna, 1))\n",
    "print(get_at_content(test_dna, 2))\n",
    "print(get_at_content(test_dna, 3))"
   ]
  },
  {
   "cell_type": "code",
   "execution_count": 6,
   "metadata": {},
   "outputs": [],
   "source": [
    "def print_at_content(dna):\n",
    "    length = len(dna)\n",
    "    a_count = dna.upper().count('A')\n",
    "    t_count = dna.upper().count('T')\n",
    "    at_content = (a_count + t_count) / length\n",
    "    print(str(round(at_content, 2)))"
   ]
  },
  {
   "cell_type": "code",
   "execution_count": 7,
   "metadata": {},
   "outputs": [
    {
     "data": {
      "text/plain": [
       "0.45"
      ]
     },
     "execution_count": 7,
     "metadata": {},
     "output_type": "execute_result"
    }
   ],
   "source": [
    "get_at_content(dna=\"ATCGTGACTCG\", sig_figs=2)"
   ]
  },
  {
   "cell_type": "code",
   "execution_count": 8,
   "metadata": {},
   "outputs": [
    {
     "data": {
      "text/plain": [
       "0.45"
      ]
     },
     "execution_count": 8,
     "metadata": {},
     "output_type": "execute_result"
    }
   ],
   "source": [
    "get_at_content(dna=\"ATCGTGACTCG\", sig_figs=2)\n",
    "get_at_content(sig_figs=2, dna=\"ATCGTGACTCG\")"
   ]
  },
  {
   "cell_type": "code",
   "execution_count": 12,
   "metadata": {},
   "outputs": [
    {
     "data": {
      "text/plain": [
       "0.45"
      ]
     },
     "execution_count": 12,
     "metadata": {},
     "output_type": "execute_result"
    }
   ],
   "source": [
    "get_at_content(\"ATCGTGACTCG\", 2)\n",
    "get_at_content(dna=\"ATCGTGACTCG\", sig_figs=2)\n",
    "get_at_content(\"ATCGTGACTCG\", sig_figs=2)"
   ]
  },
  {
   "cell_type": "code",
   "execution_count": 13,
   "metadata": {},
   "outputs": [],
   "source": [
    "def get_at_content(dna, sig_figs=2):\n",
    " length = len(dna)\n",
    " a_count = dna.upper().count('A')\n",
    " t_count = dna.upper().count('T')\n",
    " at_content = (a_count + t_count) / length\n",
    " return round(at_content, sig_figs) "
   ]
  },
  {
   "cell_type": "code",
   "execution_count": 14,
   "metadata": {},
   "outputs": [
    {
     "data": {
      "text/plain": [
       "0.4545"
      ]
     },
     "execution_count": 14,
     "metadata": {},
     "output_type": "execute_result"
    }
   ],
   "source": [
    "get_at_content(\"ATCGTGACTCG\", sig_figs=4)"
   ]
  },
  {
   "cell_type": "code",
   "execution_count": 15,
   "metadata": {},
   "outputs": [
    {
     "data": {
      "text/plain": [
       "0.45"
      ]
     },
     "execution_count": 15,
     "metadata": {},
     "output_type": "execute_result"
    }
   ],
   "source": [
    "get_at_content(\"ATCGTGACTCG\")"
   ]
  },
  {
   "cell_type": "code",
   "execution_count": 16,
   "metadata": {},
   "outputs": [
    {
     "data": {
      "text/plain": [
       "0.455"
      ]
     },
     "execution_count": 16,
     "metadata": {},
     "output_type": "execute_result"
    }
   ],
   "source": [
    "get_at_content(\"ATCGTGACTCG\", 3)"
   ]
  },
  {
   "cell_type": "code",
   "execution_count": 18,
   "metadata": {},
   "outputs": [],
   "source": [
    "assert get_at_content(\"ATGC\") == 0.5"
   ]
  },
  {
   "cell_type": "code",
   "execution_count": 19,
   "metadata": {},
   "outputs": [
    {
     "ename": "AssertionError",
     "evalue": "",
     "output_type": "error",
     "traceback": [
      "\u001b[0;31m---------------------------------------------------------------------------\u001b[0m",
      "\u001b[0;31mAssertionError\u001b[0m                            Traceback (most recent call last)",
      "\u001b[0;32m<ipython-input-19-2887bcab6a6e>\u001b[0m in \u001b[0;36m<module>\u001b[0;34m\u001b[0m\n\u001b[0;32m----> 1\u001b[0;31m \u001b[0;32massert\u001b[0m \u001b[0mget_at_content\u001b[0m\u001b[0;34m(\u001b[0m\u001b[0;34m\"ATGCNNNNNNNNNN\"\u001b[0m\u001b[0;34m)\u001b[0m \u001b[0;34m==\u001b[0m \u001b[0;36m0.5\u001b[0m\u001b[0;34m\u001b[0m\u001b[0;34m\u001b[0m\u001b[0m\n\u001b[0m",
      "\u001b[0;31mAssertionError\u001b[0m: "
     ]
    }
   ],
   "source": [
    "assert get_at_content(\"ATGCNNNNNNNNNN\") == 0.5"
   ]
  },
  {
   "cell_type": "code",
   "execution_count": 20,
   "metadata": {},
   "outputs": [],
   "source": [
    "def get_at_content(dna, sig_figs=2):\n",
    " dna = dna.replace('N', '')\n",
    " length = len(dna)\n",
    " a_count = dna.upper().count('A')\n",
    " t_count = dna.upper().count('T')\n",
    " at_content = (a_count + t_count) / length\n",
    " return round(at_content, sig_figs) "
   ]
  },
  {
   "cell_type": "code",
   "execution_count": 21,
   "metadata": {},
   "outputs": [],
   "source": [
    "assert get_at_content(\"ATGCNNNNNNNNNN\") == 0.5"
   ]
  },
  {
   "cell_type": "code",
   "execution_count": 22,
   "metadata": {},
   "outputs": [],
   "source": [
    "assert get_at_content(\"A\") == 1\n",
    "assert get_at_content(\"G\") == 0\n",
    "assert get_at_content(\"ATGC\") == 0.5\n",
    "assert get_at_content(\"AGG\") == 0.33\n",
    "assert get_at_content(\"AGG\", 1) == 0.3\n",
    "assert get_at_content(\"AGG\", 5) == 0.33333"
   ]
  },
  {
   "cell_type": "code",
   "execution_count": null,
   "metadata": {},
   "outputs": [],
   "source": []
  }
 ],
 "metadata": {
  "kernelspec": {
   "display_name": "Python 3",
   "language": "python",
   "name": "python3"
  },
  "language_info": {
   "codemirror_mode": {
    "name": "ipython",
    "version": 3
   },
   "file_extension": ".py",
   "mimetype": "text/x-python",
   "name": "python",
   "nbconvert_exporter": "python",
   "pygments_lexer": "ipython3",
   "version": "3.7.4"
  }
 },
 "nbformat": 4,
 "nbformat_minor": 2
}
