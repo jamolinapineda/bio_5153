{
 "cells": [
  {
   "cell_type": "code",
   "execution_count": 2,
   "metadata": {},
   "outputs": [],
   "source": [
    "import os\n",
    "os.rename(\"/Users/JAMP/Desktop/old.txt\", \"/Users/JAMP/Desktop/new.txt\")"
   ]
  },
  {
   "cell_type": "code",
   "execution_count": 3,
   "metadata": {},
   "outputs": [],
   "source": [
    "os.mkdir(\"/Users/JAMP/Desktop/old_folder\")"
   ]
  },
  {
   "cell_type": "code",
   "execution_count": 7,
   "metadata": {},
   "outputs": [],
   "source": [
    "os.rename(\"/Users/JAMP/Desktop/new.txt\", \"/Users/JAMP/Desktop/old_folder/new2.txt\")"
   ]
  },
  {
   "cell_type": "code",
   "execution_count": 8,
   "metadata": {},
   "outputs": [
    {
     "data": {
      "text/plain": [
       "'/Users/JAMP/Desktop/copy.txt'"
      ]
     },
     "execution_count": 8,
     "metadata": {},
     "output_type": "execute_result"
    }
   ],
   "source": [
    "import shutil\n",
    "shutil.copy(\"/Users/JAMP/Desktop/old_folder/new2.txt\", \"/Users/JAMP/Desktop/copy.txt\")"
   ]
  },
  {
   "cell_type": "code",
   "execution_count": 12,
   "metadata": {},
   "outputs": [
    {
     "data": {
      "text/plain": [
       "'/Users/JAMP/Desktop/new_folder2'"
      ]
     },
     "execution_count": 12,
     "metadata": {},
     "output_type": "execute_result"
    }
   ],
   "source": [
    "shutil.copytree(\"/Users/JAMP/Desktop/old_folder/\" , \"/Users/JAMP/Desktop/new_folder2\")"
   ]
  },
  {
   "cell_type": "code",
   "execution_count": 13,
   "metadata": {},
   "outputs": [
    {
     "name": "stdout",
     "output_type": "stream",
     "text": [
      "You have new!\n"
     ]
    }
   ],
   "source": [
    "if os.path.exists(\"/Users/JAMP/Desktop/old_folder/new2.txt\"):\n",
    "    print(\"You have new!\")"
   ]
  },
  {
   "cell_type": "code",
   "execution_count": 14,
   "metadata": {},
   "outputs": [],
   "source": [
    "os.remove(\"/Users/JAMP/Desktop/old_folder/new2.txt\")"
   ]
  },
  {
   "cell_type": "code",
   "execution_count": 15,
   "metadata": {},
   "outputs": [],
   "source": [
    "os.rmdir(\"/Users/JAMP/Desktop/old_folder/\")"
   ]
  },
  {
   "cell_type": "code",
   "execution_count": 16,
   "metadata": {},
   "outputs": [],
   "source": [
    "shutil.rmtree(\"/Users/JAMP/Desktop/new_folder2\")"
   ]
  },
  {
   "cell_type": "code",
   "execution_count": 17,
   "metadata": {},
   "outputs": [
    {
     "name": "stdout",
     "output_type": "stream",
     "text": [
      "one file name is shaver_etal.csv.save.1\n",
      "one file name is assn03.sh\n",
      "one file name is parse_shaver_11-Mar-2020.py\n",
      "one file name is .DS_Store\n",
      "one file name is shaver_etal.csv.save\n",
      "one file name is parseGFF.py\n",
      "one file name is p4b_ch02.ipynb\n",
      "one file name is blood_on_the_tracks.txt\n",
      "one file name is p4b_ch04.ipynb\n",
      "one file name is p4b_chp05.ipynb\n",
      "one file name is README.md\n",
      "one file name is shaver_etal.csv\n",
      "one file name is .ipynb_checkpoints\n",
      "one file name is assn01.sh\n",
      "one file name is assn04\n",
      "one file name is p4b_ch09.ipynb\n",
      "one file name is .git\n",
      "one file name is p4b_chp03\n",
      "one file name is CV_Julio_Molina_Pineda.md\n",
      "one file name is nucleotide_composition.py\n"
     ]
    }
   ],
   "source": [
    "for file_name in os.listdir(\".\"):\n",
    "    print(\"one file name is \" + file_name)"
   ]
  },
  {
   "cell_type": "code",
   "execution_count": 19,
   "metadata": {},
   "outputs": [
    {
     "name": "stdout",
     "output_type": "stream",
     "text": [
      "one file name is .localized\n",
      "one file name is terms .docx\n",
      "one file name is GRE Scores - Julio MP.pdf\n"
     ]
    }
   ],
   "source": [
    "for file_name in os.listdir(\"/Users/JAMP/Documents/\"):\n",
    "    print(\"one file name is \" + file_name)"
   ]
  },
  {
   "cell_type": "code",
   "execution_count": 20,
   "metadata": {},
   "outputs": [
    {
     "data": {
      "text/plain": [
       "0"
      ]
     },
     "execution_count": 20,
     "metadata": {},
     "output_type": "execute_result"
    }
   ],
   "source": [
    "import subprocess\n",
    "subprocess.call(\"/bin/date\")"
   ]
  },
  {
   "cell_type": "code",
   "execution_count": 21,
   "metadata": {},
   "outputs": [
    {
     "data": {
      "text/plain": [
       "0"
      ]
     },
     "execution_count": 21,
     "metadata": {},
     "output_type": "execute_result"
    }
   ],
   "source": [
    "subprocess.call(\"/bin/date +%B\", shell=True)"
   ]
  },
  {
   "cell_type": "code",
   "execution_count": 23,
   "metadata": {},
   "outputs": [
    {
     "name": "stdout",
     "output_type": "stream",
     "text": [
      "b'March\\n'\n"
     ]
    }
   ],
   "source": [
    "current_month = subprocess.check_output(\"/bin/date +%B\", shell=True)\n",
    "print (current_month)"
   ]
  },
  {
   "cell_type": "code",
   "execution_count": 26,
   "metadata": {},
   "outputs": [
    {
     "name": "stdout",
     "output_type": "stream",
     "text": [
      "Word count inparangaricutirimicuaro\n",
      "22\n"
     ]
    }
   ],
   "source": [
    "accession = input(\"Word count in\")\n",
    "print(len(accession))\n",
    "# do something with the accession variable"
   ]
  },
  {
   "cell_type": "code",
   "execution_count": 27,
   "metadata": {},
   "outputs": [
    {
     "name": "stdout",
     "output_type": "stream",
     "text": [
      "['/opt/anaconda3/lib/python3.7/site-packages/ipykernel_launcher.py', '-f', '/Users/JAMP/Library/Jupyter/runtime/kernel-11f16225-c656-4bcc-8543-c8e1268e3891.json']\n"
     ]
    }
   ],
   "source": [
    "import sys\n",
    "print(sys.argv)"
   ]
  },
  {
   "cell_type": "code",
   "execution_count": null,
   "metadata": {},
   "outputs": [],
   "source": []
  }
 ],
 "metadata": {
  "kernelspec": {
   "display_name": "Python 3",
   "language": "python",
   "name": "python3"
  },
  "language_info": {
   "codemirror_mode": {
    "name": "ipython",
    "version": 3
   },
   "file_extension": ".py",
   "mimetype": "text/x-python",
   "name": "python",
   "nbconvert_exporter": "python",
   "pygments_lexer": "ipython3",
   "version": "3.7.4"
  }
 },
 "nbformat": 4,
 "nbformat_minor": 2
}
